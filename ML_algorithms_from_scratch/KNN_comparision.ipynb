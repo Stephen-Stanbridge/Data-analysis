{
 "cells": [
  {
   "cell_type": "markdown",
   "metadata": {},
   "source": [
    "# Import needed libraries, apply custom functions of euclidean distance and k-nearest neighbours."
   ]
  },
  {
   "cell_type": "code",
   "execution_count": 88,
   "metadata": {},
   "outputs": [],
   "source": [
    "import pandas as pd\n",
    "from sklearn.neighbors import KNeighborsClassifier\n",
    "from sklearn.model_selection import train_test_split\n",
    "import numpy as np\n",
    "from random import shuffle\n",
    "from collections import Counter"
   ]
  },
  {
   "cell_type": "code",
   "execution_count": 89,
   "metadata": {},
   "outputs": [],
   "source": [
    "def euclidean_distance(plots):\n",
    "    result = 0\n",
    "    for i in range(0, 1):\n",
    "        for y in range(0,len(plots[0])):\n",
    "            result += (plots[i][y] - plots[i+1][y])**2\n",
    "    return result**0.5"
   ]
  },
  {
   "cell_type": "code",
   "execution_count": 90,
   "metadata": {},
   "outputs": [],
   "source": [
    "def k_nearest_neighbours(data, predict, k):\n",
    "    counter = []\n",
    "    min_values = []\n",
    "    if k < len(data):\n",
    "        print(\"K should be bigger than number of classes.\")\n",
    "    for cl in data:\n",
    "        for feat in data[cl]:\n",
    "            counter.append([cl, euclidean_distance([feat, predict])])\n",
    "\n",
    "    \n",
    "    counter.sort(key=lambda x: x[1])\n",
    "    min_values = counter[:k]\n",
    "    check = []\n",
    "    for label in min_values:\n",
    "        check.append(label[0])\n",
    "\n",
    "    return Counter(check).most_common(1)[0][0]"
   ]
  },
  {
   "cell_type": "markdown",
   "metadata": {},
   "source": [
    "# Prepare dataset for using KNN algorithm."
   ]
  },
  {
   "cell_type": "code",
   "execution_count": 91,
   "metadata": {},
   "outputs": [],
   "source": [
    "df = pd.read_csv('datasets/breast-cancer-wisconsin.data')"
   ]
  },
  {
   "cell_type": "code",
   "execution_count": 92,
   "metadata": {},
   "outputs": [],
   "source": [
    "df.replace('?', np.NaN, inplace=True)\n",
    "df.dropna(inplace=True)\n",
    "df.drop(['id'], axis=1, inplace=True)"
   ]
  },
  {
   "cell_type": "markdown",
   "metadata": {},
   "source": [
    "# KNN using custom function, measure accuracy of it."
   ]
  },
  {
   "cell_type": "code",
   "execution_count": 93,
   "metadata": {},
   "outputs": [],
   "source": [
    "all_data = df.astype(int).values.tolist()\n",
    "shuffle(all_data)"
   ]
  },
  {
   "cell_type": "code",
   "execution_count": 94,
   "metadata": {},
   "outputs": [],
   "source": [
    "X_train = all_data[:-int(0.25*len(all_data))]\n",
    "X_test = all_data[-int(0.25*len(all_data)):]\n",
    "train_dict = {2: [], 4: []}\n",
    "test_dict = {2: [], 4: []}\n",
    "for sample in X_train:\n",
    "    train_dict[sample[-1]].append(sample[:-1])\n",
    "for sample in X_test:\n",
    "    test_dict[sample[-1]].append(sample[:-1])"
   ]
  },
  {
   "cell_type": "code",
   "execution_count": 95,
   "metadata": {},
   "outputs": [],
   "source": [
    "def measure_accuracy(train_set, test_set):\n",
    "    predicted = 0\n",
    "    count = 0 \n",
    "    for category in test_set:\n",
    "        for predict in test_set[category]:\n",
    "            result = k_nearest_neighbours(train_set, predict, 5)\n",
    "            if category == result:\n",
    "                predicted +=1\n",
    "            count+=1\n",
    "    return predicted/count"
   ]
  },
  {
   "cell_type": "code",
   "execution_count": 96,
   "metadata": {},
   "outputs": [
    {
     "name": "stdout",
     "output_type": "stream",
     "text": [
      "0.9707602339181286\n"
     ]
    }
   ],
   "source": [
    "measure_accuracy(train_dict, test_dict)\n",
    "print(accuracy)"
   ]
  },
  {
   "cell_type": "markdown",
   "metadata": {},
   "source": [
    "# Measure accuracy using sklearn's KNN classifier."
   ]
  },
  {
   "cell_type": "code",
   "execution_count": 97,
   "metadata": {},
   "outputs": [],
   "source": [
    "X = np.array(df.drop(['class'], axis=1))\n",
    "y = np.array(df['class'])"
   ]
  },
  {
   "cell_type": "code",
   "execution_count": 98,
   "metadata": {},
   "outputs": [],
   "source": [
    "X_train, X_test, y_train, y_test = train_test_split(X, y, test_size=0.25)"
   ]
  },
  {
   "cell_type": "code",
   "execution_count": 99,
   "metadata": {},
   "outputs": [],
   "source": [
    "clf = KNeighborsClassifier()"
   ]
  },
  {
   "cell_type": "code",
   "execution_count": 100,
   "metadata": {},
   "outputs": [
    {
     "data": {
      "text/plain": [
       "KNeighborsClassifier(algorithm='auto', leaf_size=30, metric='minkowski',\n",
       "                     metric_params=None, n_jobs=None, n_neighbors=5, p=2,\n",
       "                     weights='uniform')"
      ]
     },
     "execution_count": 100,
     "metadata": {},
     "output_type": "execute_result"
    }
   ],
   "source": [
    "clf.fit(X_train, y_train)"
   ]
  },
  {
   "cell_type": "code",
   "execution_count": 101,
   "metadata": {},
   "outputs": [
    {
     "name": "stdout",
     "output_type": "stream",
     "text": [
      "0.9824561403508771\n"
     ]
    }
   ],
   "source": [
    "accuracy = clf.score(X_test, y_test)\n",
    "print(accuracy)"
   ]
  }
 ],
 "metadata": {
  "kernelspec": {
   "display_name": "Python 3",
   "language": "python",
   "name": "python3"
  },
  "language_info": {
   "codemirror_mode": {
    "name": "ipython",
    "version": 3
   },
   "file_extension": ".py",
   "mimetype": "text/x-python",
   "name": "python",
   "nbconvert_exporter": "python",
   "pygments_lexer": "ipython3",
   "version": "3.7.6"
  }
 },
 "nbformat": 4,
 "nbformat_minor": 4
}
