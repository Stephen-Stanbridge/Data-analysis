{
 "cells": [
  {
   "cell_type": "code",
   "execution_count": 73,
   "metadata": {},
   "outputs": [],
   "source": [
    "from random import randint\n",
    "import matplotlib.pyplot as plt\n",
    "from matplotlib import style\n",
    "style.use('dark_background')"
   ]
  },
  {
   "cell_type": "markdown",
   "metadata": {},
   "source": [
    "# Function for calculating euclidian distance in any amount of dimensions."
   ]
  },
  {
   "cell_type": "code",
   "execution_count": 354,
   "metadata": {},
   "outputs": [],
   "source": [
    "def euclidean_distance(plots):\n",
    "    result = 0\n",
    "    for i in range(0, 1):\n",
    "        for y in range(0,len(plots[0])):\n",
    "            result += (plots[i][y] - plots[i+1][y])**2\n",
    "    return result**0.5"
   ]
  },
  {
   "cell_type": "markdown",
   "metadata": {},
   "source": [
    "# Function for making random dataset."
   ]
  },
  {
   "cell_type": "code",
   "execution_count": 355,
   "metadata": {},
   "outputs": [],
   "source": [
    "def make_dataset(features_amount):\n",
    "    result = []\n",
    "    for i in range(features_amount):\n",
    "        result.append([randint(1,50), randint(1,50)])\n",
    "    return result"
   ]
  },
  {
   "cell_type": "markdown",
   "metadata": {},
   "source": [
    "# Creating two classes with features."
   ]
  },
  {
   "cell_type": "code",
   "execution_count": 347,
   "metadata": {},
   "outputs": [],
   "source": [
    "dataset = {'a_class': make_dataset(20), 'b_class': make_dataset(20)}"
   ]
  },
  {
   "cell_type": "code",
   "execution_count": 356,
   "metadata": {},
   "outputs": [
    {
     "data": {
      "image/png": "[encoded data removed]",
      "text/plain": [
       "<Figure size 1080x432 with 1 Axes>"
      ]
     },
     "metadata": {},
     "output_type": "display_data"
    }
   ],
   "source": [
    "plt.figure(figsize=(15,6))\n",
    "plt.scatter([x[0] for x in dataset['a_class']], [y[1] for y in dataset['a_class']], c='lightblue')\n",
    "plt.scatter([x[0] for x in dataset['b_class']], [y[1] for y in dataset['b_class']], c='green')\n",
    "# Scatter points to predict\n",
    "plt.scatter([18, 33],[25, 15], c=\"red\")\n",
    "plt.show()"
   ]
  },
  {
   "cell_type": "markdown",
   "metadata": {},
   "source": [
    "# Create k_nearest_neigbours function."
   ]
  },
  {
   "cell_type": "code",
   "execution_count": 350,
   "metadata": {},
   "outputs": [],
   "source": [
    "from collections import Counter\n",
    "def k_nearest_neighbours(data, predict, k):\n",
    "    counter = []\n",
    "    min_values = []\n",
    "    if k < len(data):\n",
    "        print(\"K should be bigger than number of classes.\")\n",
    "    for cl in data:\n",
    "        for feat in data[cl]:\n",
    "            counter.append([cl, euclidean_distance([feat, predict])])\n",
    "\n",
    "    \n",
    "    counter.sort(key=lambda x: x[1])\n",
    "    min_values = counter[:k]\n",
    "    check = []\n",
    "    for label in min_values:\n",
    "        check.append(label[0])\n",
    "\n",
    "    return Counter(check).most_common(1)[0][0]\n",
    "        "
   ]
  },
  {
   "cell_type": "markdown",
   "metadata": {},
   "source": [
    "# Test function on unused features."
   ]
  },
  {
   "cell_type": "code",
   "execution_count": 360,
   "metadata": {},
   "outputs": [
    {
     "data": {
      "text/plain": [
       "'b_class'"
      ]
     },
     "execution_count": 360,
     "metadata": {},
     "output_type": "execute_result"
    }
   ],
   "source": [
    "k_nearest_neighbours(dataset, [18, 25], 3)"
   ]
  },
  {
   "cell_type": "code",
   "execution_count": 359,
   "metadata": {},
   "outputs": [
    {
     "data": {
      "text/plain": [
       "'a_class'"
      ]
     },
     "execution_count": 359,
     "metadata": {},
     "output_type": "execute_result"
    }
   ],
   "source": [
    "k_nearest_neighbours(dataset, [33, 15], 3)"
   ]
  },
  {
   "cell_type": "code",
   "execution_count": null,
   "metadata": {},
   "outputs": [],
   "source": []
  }
 ],
 "metadata": {
  "kernelspec": {
   "display_name": "Python 3",
   "language": "python",
   "name": "python3"
  },
  "language_info": {
   "codemirror_mode": {
    "name": "ipython",
    "version": 3
   },
   "file_extension": ".py",
   "mimetype": "text/x-python",
   "name": "python",
   "nbconvert_exporter": "python",
   "pygments_lexer": "ipython3",
   "version": "3.7.6"
  }
 },
 "nbformat": 4,
 "nbformat_minor": 4
}
